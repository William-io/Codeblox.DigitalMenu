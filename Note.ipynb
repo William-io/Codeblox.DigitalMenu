{
 "cells": [
  {
   "attachments": {},
   "cell_type": "markdown",
   "metadata": {},
   "source": [
    "# .infrastructure / Migrations / Versions\n",
    "\n",
    "As versões será responsavel para criar 1 ou mais tabelas. Cada versão vai criar tabelas relacionadas conforme as mudanças na aplicação. \n",
    "\n",
    "> VersionData0000001.cs"
   ]
  }
 ],
 "metadata": {
  "language_info": {
   "name": "python"
  },
  "orig_nbformat": 4
 },
 "nbformat": 4,
 "nbformat_minor": 2
}
