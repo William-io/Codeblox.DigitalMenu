{
 "cells": [
  {
   "attachments": {},
   "cell_type": "markdown",
   "metadata": {},
   "source": [
    "### Criar um banco caso não tenha, efetuando o test via dapper e criar conexao.\n",
    "\n",
    "> Database.cs\n",
    "\n",
    "> CreateDatabase(string connectionWithoutDataBase, string nameDatabase)\n",
    "\n",
    "onde será aberta uma conexão, verificar se há um banco da dados ativo, caso contrario, vai ser criando um novo dataBase mediate o paramentro. \n",
    "   "
   ]
  },
  {
   "attachments": {},
   "cell_type": "markdown",
   "metadata": {},
   "source": [
    "### .Domain\n",
    "\n",
    ">RepositoryExtension.cs\n",
    "\n",
    "Crio uma extensão utilizando o serviço Extensions.Configuration, com objetivo de proteger o acesso a connectionString que estava exposto no program.cs da aplicação sendo usada por ConfigurationManager\n",
    "\n",
    "Faço referencia ao IConfiguration, passando no paramentro ( configurationManager) que injeta o GetConnectionString\n",
    "\n",
    "Extensions.Configuration é uma biblioteca para .NET que fornece suporte para a leitura de dados de configuração de uma variedade de fontes\n"
   ]
  },
  {
   "attachments": {},
   "cell_type": "markdown",
   "metadata": {},
   "source": [
    "### .infrastructure / Migrations / Versions\n",
    "\n",
    "As versões será responsavel para criar 1 ou mais tabelas. Cada versão vai criar tabelas relacionadas conforme as mudanças na aplicação. \n",
    "\n",
    "> VersionData0000001.cs\n",
    "\n",
    "\n",
    "Na VersionData0000001 preciso herdar de Migration do FluentMigrator que implementa o UP e DOWN. \n",
    "\n",
    "UP - para criar todo esquema das tabelas. \n",
    "\n",
    "> BaseVersion.cs\n",
    "\n",
    "Para evitar escrever o codigo para uma tabela que precise utilizar date ou ID que estão como padrão, crio uma schema BASE. \n",
    "\n",
    "Na classe BaseVersion eu crio uma função que chamo do Flunt o ICreateTableColumnOptionOrWithColumnSyntax, retornando o table. Que vai criar tabela padrão para todo esquema. \n",
    "\n",
    "            .WithColumn(\"Id\").AsInt64().PrimaryKey().Identity()\n",
    "            .WithColumn(\"CreateDate\").AsDateTime().NotNullable();\n",
    " \n",
    "O que ele faz? Recebe a tabela do versionData, insere as colunas default e retorna a propria tabela. \n",
    "\n",
    "> São colunas especificadas de cada tabela.\n",
    "\n",
    "            .WithColumn(\"Name\").AsString(100).NotNullable()\n",
    "            .WithColumn(\"Email\").AsString(100).NotNullable()\n",
    "            .WithColumn(\"Password\").AsString(2000).NotNullable()\n",
    "            .WithColumn(\"Phone\").AsString(14).NotNullable();\n",
    "\n",
    "            "
   ]
  },
  {
   "attachments": {},
   "cell_type": "markdown",
   "metadata": {},
   "source": [
    "Identifico a classe version como um migration, passando a flag \n",
    "\n",
    "> [Migration(1, \"Criar tabela usuario\")]\n",
    "\n",
    "Melhorando o codigo: como o migration flag espera um numero, crio uma classe do tipo ENUM, que digo 1 == Criar tabela usuario\n",
    "\n",
    "```Csharp\n",
    "public enum SpecificVersionNumber\n",
    "{\n",
    "    CreateUserTable = 1\n",
    "}\n",
    "```\n",
    "\n",
    "Na flag eu passo o metodo com o tipo [Migration((long)] e o ENUM.\n"
   ]
  },
  {
   "attachments": {},
   "cell_type": "markdown",
   "metadata": {},
   "source": [
    "MigrationExtension\n",
    "\n",
    "Tem como proposito subir e organizar as versões de forma automatica. Passando como parametro o IApplicationBuilder que faz parte do Build(), e Do WebApplication que herda de IapplicationBuilder.\n",
    "\n",
    "//Vai ser executado o app.MigrateDataBase(); que faz parte do MigrationExtensio. "
   ]
  },
  {
   "attachments": {},
   "cell_type": "markdown",
   "metadata": {},
   "source": [
    "### Bootmigration\n",
    "\n",
    "Bootmigration = Que fara o papel de verificar o que tem em cada VersionData0000001.cs e subir o que está contido no metodo UP()\n",
    "\n",
    "AddRepository contem um Service que é um IServiceCollection. \n",
    "\n",
    "\n",
    "```csharp\n",
    "//Metodo que verificar versão de migration atraves de metodo Fluent. \n",
    "private static void AddFluentMigrator(IServiceCollection services, IConfiguration configurationManager)\n",
    "{\n",
    "        services.AddFluentMigratorCore().ConfigureRunner(c =>\n",
    "        c.AddSqlServer()\n",
    "        .WithGlobalConnectionString(configurationManager.GetConnectionCompletParamenter())\n",
    "        .ScanIn(Assembly.Load(\"Codeblox.DigitalMenu.Infrastructure\")).For.All()); \n",
    "}\n",
    "```"
   ]
  }
 ],
 "metadata": {
  "language_info": {
   "name": "python"
  },
  "orig_nbformat": 4
 },
 "nbformat": 4,
 "nbformat_minor": 2
}
